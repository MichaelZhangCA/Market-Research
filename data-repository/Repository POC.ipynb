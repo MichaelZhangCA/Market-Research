{
 "cells": [
  {
   "cell_type": "code",
   "execution_count": 3,
   "metadata": {},
   "outputs": [],
   "source": [
    "import datetime\n",
    "from crossreference import *\n",
    "from datarepository import stockpricerepo as stockrepo, indexrepo"
   ]
  },
  {
   "cell_type": "code",
   "execution_count": 11,
   "metadata": {},
   "outputs": [],
   "source": [
    "df = stockpricerepo.get_stock_adjdata('AMZN', datetime.date(1900,1,1))"
   ]
  },
  {
   "cell_type": "code",
   "execution_count": 2,
   "metadata": {},
   "outputs": [
    {
     "data": {
      "text/plain": [
       "[{'effective_date': datetime.date(2018, 2, 15),\n",
       "  'macd': Decimal('75.135898'),\n",
       "  'macd_ema': Decimal('72.951177'),\n",
       "  'macd_histogram': Decimal('2.184721')}]"
      ]
     },
     "execution_count": 2,
     "metadata": {},
     "output_type": "execute_result"
    }
   ],
   "source": [
    "dic = idcrepo.get_macd_by_date('AMZN', 8, 34, 34, datetime.date(2018,2,15))\n",
    "dic"
   ]
  },
  {
   "cell_type": "code",
   "execution_count": 11,
   "metadata": {},
   "outputs": [
    {
     "data": {
      "text/plain": [
       "'ATVI,ADBE,ALXN,ALGN,GOOGL,GOOG,AMZN,AAL,AMGN,ADI,AAPL,AMAT,ASML,ADSK,ADP,BIDU,BIIB,BMRN,AVGO,CA,CDNS,CELG,CERN,CHTR,CHKP,CTAS,CSCO,CTXS,CTSH,CMCSA,COST,CSX,CTRP,XRAY,DISH,DLTR,EBAY,EA,EXPE,ESRX,FB,FAST,FISV,GILD,HAS,HSIC,HOLX,IDXX,ILMN,INCY,INTC,INTU,ISRG,JBHT,JD,KLAC,LRCX,LBTYA,LBTYK,LVNTA,QVCA,MAR,MXIM,MELI,MCHP,MU,MSFT,MDLZ,MNST,MYL,NTES,NFLX,NVDA,ORLY,PCAR,PAYX,PYPL,QCOM,REGN,ROST,STX,SHPG,SIRI,SWKS,SBUX,SYMC,SNPS,TMUS,TTWO,TSLA,TXN,KHC,PCLN,FOXA,FOX,ULTA,VRSK,VRTX,VOD,WBA,WDC,WDAY,WYNN,XLNX,MMM,ABT,ABBV,ACN,AYI,AMD,AAP,AES,AET,AMG,AFL,A,APD,AKAM,ALK,ALB,ARE,ALLE,AGN,ADS,LNT,ALL,MO,AEE,AEP,AXP,AIG,AMT,AWK,AMP,ABC,AME,APH,APC,ANDV,ANSS,ANTM,AON,AOS,APA,AIV,APTV,ADM,ARNC,AJG,AIZ,T,AZO,AVB,AVY,BHGE,BLL,BAC,BK,BAX,BBT,BDX,BRK.B,BBY,BLK,HRB,BA,BWA,BXP,BSX,BHF,BMY,BF.B,CHRW,COG,CPB,COF,CAH,CBOE,KMX,CCL,CAT,CBG,CBS,CNC,CNP,CTL,CF,SCHW,CHK,CVX,CMG,CB,CHD,CI,XEC,CINF,C,CFG,CLX,CME,CMS,KO,CL,CMA,CAG,CXO,COP,ED,STZ,COO,GLW,COTY,CCI,CSRA,CMI,CVS,DHI,DHR,DRI,DVA,DE,DAL,DVN,DLR,DFS,DISCA,DISCK,DG,D,DOV,DWDP,DPS,DTE,DRE,DUK,DXC,ETFC,EMN,ETN,ECL,EIX,EW,EMR,ETR,EVHC,EOG,EQT,EFX,EQIX,EQR,ESS,EL,ES,RE,EXC,EXPD,EXR,XOM,FFIV,FRT,FDX,FIS,FITB,FE,FLIR,FLS,FLR,FMC,FL,F,FTV,FBHS,BEN,FCX,GPS,GRMN,IT,GD,GE,GGP,GIS,GM,GPC,GPN,GS,GT,GWW,HAL,HBI,HOG,HRS,HIG,HCA,HCP,HP,HSY,HES,HPE,HLT,HD,HON,HRL,HST,HPQ,HUM,HBAN,HII,INFO,ITW,IR,ICE,IBM,IP,IPG,IFF,IVZ,IQV,IRM,JEC,SJM,JNJ,JCI,JPM,JNPR,KSU,K,KEY,KMB,KIM,KMI,KSS,KR,LB,LLL,LH,LEG,LEN,LUK,LLY,LNC,LKQ,LMT,L,LOW,LYB,MTB,MAC,M,MRO,MPC,MMC,MLM,MAS,MA,MAT,MKC,MCD,MCK,MDT,MRK,MET,MTD,MGM,KORS,MAA,MHK,TAP,MON,MCO,MS,MOS,MSI,NDAQ,NOV,NAVI,NTAP,NWL,NFX,NEM,NWSA,NWS,NEE,NLSN,NKE,NI,NBL,JWN,NSC,NTRS,NOC,NCLH,NRG,NUE,OXY,OMC,OKE,ORCL,PKG,PH,PDCO,PNR,PBCT,PEP,PKI,PRGO,PFE,PCG,PM,PSX,PNW,PXD,PNC,RL,PPG,PPL,PX,PFG,PG,PGR,PLD,PRU,PEG,PSA,PHM,PVH,QRVO,PWR,DGX,RRC,RJF,RTN,O,RHT,REG,RF,RSG,RMD,RHI,ROK,COL,ROP,RCL,CRM,SBAC,SCG,SLB,SNI,SEE,SRE,SHW,SIG,SPG,SLG,SNA,SO,LUV,SPGI,SWK,STT,SRCL,SYK,STI,SYF,SYY,TROW,TPR,TGT,TEL,FTI,TXT,TMO,TIF,TWX,TJX,TMK,TSS,TSCO,TDG,TRV,TRIP,TSN,UDR,USB,UAA,UA,UNP,UAL,UNH,UPS,URI,UTX,UHS,UNM,VFC,VLO,VAR,VTR,VRSN,VZ,VIAB,V,VNO,VMC,WMT,DIS,WM,WAT,WEC,WFC,HCN,WU,WRK,WY,WHR,WMB,WLTW,WYN,XEL,XRX,XL,XYL,YUM,ZBH,ZION,ZTS,BKNG,IPGP,WELL'"
      ]
     },
     "execution_count": 11,
     "metadata": {},
     "output_type": "execute_result"
    }
   ],
   "source": [
    "lst = indexrepo.get_indexsymbollist()\n",
    "bt = []\n",
    "for sym in [row[0] for row in lst]:\n",
    "    bt.append(sym)\n",
    "    \n",
    "','.join(bt)"
   ]
  },
  {
   "cell_type": "code",
   "execution_count": null,
   "metadata": {},
   "outputs": [],
   "source": []
  }
 ],
 "metadata": {
  "kernelspec": {
   "display_name": "Python 3",
   "language": "python",
   "name": "python3"
  },
  "language_info": {
   "codemirror_mode": {
    "name": "ipython",
    "version": 3
   },
   "file_extension": ".py",
   "mimetype": "text/x-python",
   "name": "python",
   "nbconvert_exporter": "python",
   "pygments_lexer": "ipython3",
   "version": "3.6.2"
  }
 },
 "nbformat": 4,
 "nbformat_minor": 2
}
