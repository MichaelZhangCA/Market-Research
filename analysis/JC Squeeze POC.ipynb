{
 "cells": [
  {
   "cell_type": "code",
   "execution_count": 3,
   "metadata": {},
   "outputs": [],
   "source": [
    "from crossreference import *\n",
    "from codetimer import CodeTimer"
   ]
  },
  {
   "cell_type": "code",
   "execution_count": 4,
   "metadata": {},
   "outputs": [],
   "source": [
    "from johncarter_study.jcsqueeze_para import JcSqueeze_Para\n",
    "from johncarter_study import jcsqueeze, jcsqueeze_chart as jcchart"
   ]
  },
  {
   "cell_type": "code",
   "execution_count": 5,
   "metadata": {},
   "outputs": [],
   "source": [
    "#para = JcSqueeze_Para()\n"
   ]
  },
  {
   "cell_type": "code",
   "execution_count": 14,
   "metadata": {},
   "outputs": [],
   "source": [
    "def run(symbol):\n",
    "   \n",
    "    para = JcSqueeze_Para('ATR KC - PPO Trend')\n",
    "    para.kc_para.atr_mode = 'atr'\n",
    "    para.trend_indicator = 'PPO'\n",
    "    para.wave_para.indicator = 'PPO'\n",
    "    #para.wave_para.shortperiod = 55\n",
    "    #para.wave_para.shortperiod = 144\n",
    "    #para.wave_para.shortperiod = 377\n",
    "    \n",
    "    with CodeTimer('Prepare JC Squeeze data') as ct:\n",
    "        df = jcsqueeze.process_jcsqueeze(symbol, para)\n",
    "\n",
    "    # draw chart\n",
    "    jcchart.drawchart(symbol, df, para)\n"
   ]
  },
  {
   "cell_type": "code",
   "execution_count": 15,
   "metadata": {},
   "outputs": [
    {
     "name": "stdout",
     "output_type": "stream",
     "text": [
      "[ Prepare JC Squeeze data ] executed in 0:00:01.121672\n"
     ]
    }
   ],
   "source": [
    "run('AAPL')"
   ]
  },
  {
   "cell_type": "raw",
   "metadata": {},
   "source": []
  }
 ],
 "metadata": {
  "kernelspec": {
   "display_name": "Python 3",
   "language": "python",
   "name": "python3"
  },
  "language_info": {
   "codemirror_mode": {
    "name": "ipython",
    "version": 3
   },
   "file_extension": ".py",
   "mimetype": "text/x-python",
   "name": "python",
   "nbconvert_exporter": "python",
   "pygments_lexer": "ipython3",
   "version": "3.6.2"
  }
 },
 "nbformat": 4,
 "nbformat_minor": 2
}
