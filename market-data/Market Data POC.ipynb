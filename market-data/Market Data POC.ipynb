{
 "cells": [
  {
   "cell_type": "code",
   "execution_count": 2,
   "metadata": {},
   "outputs": [],
   "source": [
    "from iex import iexapi"
   ]
  },
  {
   "cell_type": "code",
   "execution_count": 5,
   "metadata": {},
   "outputs": [
    {
     "data": {
      "text/plain": [
       "{'AAPL': {'dividends': [{'amount': 0.63,\n",
       "    'declaredDate': '2018-02-01',\n",
       "    'exDate': '2018-02-09',\n",
       "    'flag': '',\n",
       "    'indicated': '',\n",
       "    'paymentDate': '2018-02-15',\n",
       "    'qualified': 'Q',\n",
       "    'recordDate': '2018-02-12',\n",
       "    'type': 'Dividend income'},\n",
       "   {'amount': 0.63,\n",
       "    'declaredDate': '2017-11-02',\n",
       "    'exDate': '2017-11-10',\n",
       "    'flag': '',\n",
       "    'indicated': '',\n",
       "    'paymentDate': '2017-11-16',\n",
       "    'qualified': 'Q',\n",
       "    'recordDate': '2017-11-13',\n",
       "    'type': 'Dividend income'}]},\n",
       " 'FB': {'dividends': []},\n",
       " 'INTC': {'dividends': [{'amount': 0.3,\n",
       "    'declaredDate': '2018-01-25',\n",
       "    'exDate': '2018-02-06',\n",
       "    'flag': '',\n",
       "    'indicated': '',\n",
       "    'paymentDate': '2018-03-01',\n",
       "    'qualified': 'Q',\n",
       "    'recordDate': '2018-02-07',\n",
       "    'type': 'Dividend income'},\n",
       "   {'amount': 0.2725,\n",
       "    'declaredDate': '2017-09-14',\n",
       "    'exDate': '2017-11-06',\n",
       "    'flag': '',\n",
       "    'indicated': '',\n",
       "    'paymentDate': '2017-12-01',\n",
       "    'qualified': 'Q',\n",
       "    'recordDate': '2017-11-07',\n",
       "    'type': 'Dividend income'}]},\n",
       " 'MSFT': {'dividends': [{'amount': 0.42,\n",
       "    'declaredDate': '2017-11-29',\n",
       "    'exDate': '2018-02-14',\n",
       "    'flag': '',\n",
       "    'indicated': '',\n",
       "    'paymentDate': '2018-03-08',\n",
       "    'qualified': 'Q',\n",
       "    'recordDate': '2018-02-15',\n",
       "    'type': 'Dividend income'},\n",
       "   {'amount': 0.42,\n",
       "    'declaredDate': '2017-09-19',\n",
       "    'exDate': '2017-11-15',\n",
       "    'flag': '',\n",
       "    'indicated': '',\n",
       "    'paymentDate': '2017-12-14',\n",
       "    'qualified': 'Q',\n",
       "    'recordDate': '2017-11-16',\n",
       "    'type': 'Dividend income'}]}}"
      ]
     },
     "execution_count": 5,
     "metadata": {},
     "output_type": "execute_result"
    }
   ],
   "source": [
    "p = IexApi.get_batchdividend(('MSFT','AAPL','INTC','FB'))\n",
    "p"
   ]
  },
  {
   "cell_type": "code",
   "execution_count": 8,
   "metadata": {},
   "outputs": [
    {
     "name": "stdout",
     "output_type": "stream",
     "text": [
      "{'exDate': '2018-02-14', 'paymentDate': '2018-03-08', 'recordDate': '2018-02-15', 'declaredDate': '2017-11-29', 'amount': 0.42, 'flag': '', 'type': 'Dividend income', 'qualified': 'Q', 'indicated': ''}\n",
      "{'exDate': '2017-11-15', 'paymentDate': '2017-12-14', 'recordDate': '2017-11-16', 'declaredDate': '2017-09-19', 'amount': 0.42, 'flag': '', 'type': 'Dividend income', 'qualified': 'Q', 'indicated': ''}\n",
      "{'exDate': '2018-02-09', 'paymentDate': '2018-02-15', 'recordDate': '2018-02-12', 'declaredDate': '2018-02-01', 'amount': 0.63, 'flag': '', 'type': 'Dividend income', 'qualified': 'Q', 'indicated': ''}\n",
      "{'exDate': '2017-11-10', 'paymentDate': '2017-11-16', 'recordDate': '2017-11-13', 'declaredDate': '2017-11-02', 'amount': 0.63, 'flag': '', 'type': 'Dividend income', 'qualified': 'Q', 'indicated': ''}\n",
      "{'exDate': '2018-02-06', 'paymentDate': '2018-03-01', 'recordDate': '2018-02-07', 'declaredDate': '2018-01-25', 'amount': 0.3, 'flag': '', 'type': 'Dividend income', 'qualified': 'Q', 'indicated': ''}\n",
      "{'exDate': '2017-11-06', 'paymentDate': '2017-12-01', 'recordDate': '2017-11-07', 'declaredDate': '2017-09-14', 'amount': 0.2725, 'flag': '', 'type': 'Dividend income', 'qualified': 'Q', 'indicated': ''}\n"
     ]
    }
   ],
   "source": [
    "for key, val in p.items():\n",
    "    for row in val['dividends']:\n",
    "        print(row)"
   ]
  },
  {
   "cell_type": "code",
   "execution_count": null,
   "metadata": {},
   "outputs": [],
   "source": []
  }
 ],
 "metadata": {
  "kernelspec": {
   "display_name": "Python 3",
   "language": "python",
   "name": "python3"
  },
  "language_info": {
   "codemirror_mode": {
    "name": "ipython",
    "version": 3
   },
   "file_extension": ".py",
   "mimetype": "text/x-python",
   "name": "python",
   "nbconvert_exporter": "python",
   "pygments_lexer": "ipython3",
   "version": "3.6.2"
  }
 },
 "nbformat": 4,
 "nbformat_minor": 2
}
